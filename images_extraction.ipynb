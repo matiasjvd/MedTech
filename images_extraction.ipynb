{
 "cells": [
  {
   "cell_type": "code",
   "execution_count": 1,
   "metadata": {},
   "outputs": [],
   "source": [
    "\n",
    "import pandas as pd\n",
    "import numpy as np\n",
    "import pandas as pd \n",
    "import matplotlib.pyplot as plt\n",
    "%matplotlib inline\n",
    "import seaborn as sns\n",
    "import cv2 \n",
    "import glob\n",
    "import os\n",
    "import random\n",
    "from os import listdir\n",
    "from sklearn.metrics import classification_report\n",
    "import tensorflow as tf\n",
    "\n",
    "os.environ['KAGGLE_CONFIG_DIR'] = \"C:/Users/Matias/OneDrive/Escritorio/Tesis/Tesis-Codes/\"\n",
    "\n",
    "import kaggle\n",
    "\n",
    "   "
   ]
  },
  {
   "cell_type": "markdown",
   "metadata": {},
   "source": [
    "## Lung and Colon Cancer Histopathological Images"
   ]
  },
  {
   "cell_type": "code",
   "execution_count": null,
   "metadata": {},
   "outputs": [],
   "source": [
    "# Ruta donde quieres guardar los archivos descargados\n",
    "ruta_descarga = 'C:/Users/Matias/OneDrive/Escritorio/Tesis/long_dataset/lung_and_colon_cancer'\n",
    "\n",
    "lung_and_colon_cancer = 'andrewmvd/lung-and-colon-cancer-histopathological-images'\n",
    "# Descargar el dataset \n",
    "kaggle.api.dataset_download_files(lung_and_colon_cancer, path=ruta_descarga, unzip=True)\n",
    "\n"
   ]
  },
  {
   "cell_type": "markdown",
   "metadata": {},
   "source": [
    "## Histopathologic Oral Cancer Detection using CNNs"
   ]
  },
  {
   "cell_type": "code",
   "execution_count": 2,
   "metadata": {},
   "outputs": [],
   "source": [
    "# Ruta donde quieres guardar los archivos descargados\n",
    "ruta_descarga = 'C:/Users/Matias/OneDrive/Escritorio/Tesis/long_dataset/oral_cancer'\n",
    "oral_cancer = 'ashenafifasilkebede/dataset'\n",
    "# Descargar el dataset \n",
    "kaggle.api.dataset_download_files(oral_cancer, path=ruta_descarga, unzip=True)"
   ]
  },
  {
   "cell_type": "markdown",
   "metadata": {},
   "source": [
    "## Cancer Instance Segmentation and Classification 1"
   ]
  },
  {
   "cell_type": "code",
   "execution_count": null,
   "metadata": {},
   "outputs": [],
   "source": [
    "# Ruta donde quieres guardar los archivos descargados\n",
    "ruta_descarga = 'C:/Users/Matias/OneDrive/Escritorio/Tesis/long_dataset/cancer_instance'\n",
    "cancer_instance = 'andrewmvd/cancer-inst-segmentation-and-classification'\n",
    "# Descargar el dataset \n",
    "kaggle.api.dataset_download_files(cancer_instance, path=ruta_descarga, unzip=True)"
   ]
  },
  {
   "cell_type": "markdown",
   "metadata": {},
   "source": [
    "## Histopathologic Cancer Detection - Cropped Images kaggle datasets download -d "
   ]
  },
  {
   "cell_type": "code",
   "execution_count": null,
   "metadata": {},
   "outputs": [],
   "source": [
    "# Ruta donde quieres guardar los archivos descargados\n",
    "ruta_descarga = 'C:/Users/Matias/OneDrive/Escritorio/Tesis/long_dataset/cropped_images'\n",
    "cropped_images = 'drbeane/hcd-cropped'\n",
    "# Descargar el dataset \n",
    "kaggle.api.dataset_download_files(cropped_images, path=ruta_descarga, unzip=True)"
   ]
  },
  {
   "cell_type": "markdown",
   "metadata": {},
   "source": [
    "## Gastrointestinal Cancer MSI MSS Prediction"
   ]
  },
  {
   "cell_type": "code",
   "execution_count": null,
   "metadata": {},
   "outputs": [],
   "source": [
    "# Ruta donde quieres guardar los archivos descargados\n",
    "ruta_descarga = 'C:/Users/Matias/OneDrive/Escritorio/Tesis/long_dataset/gastrointestinal_cancer'\n",
    "gastrointestinal_cancer = 'linjustin/train-val-test-tcga-coad-msi-mss'\n",
    "# Descargar el dataset \n",
    "kaggle.api.dataset_download_files(gastrointestinal_cancer, path=ruta_descarga, unzip=True)"
   ]
  },
  {
   "cell_type": "markdown",
   "metadata": {},
   "source": [
    "## Breast Cancer Semantic Segmentation (BCSS)"
   ]
  },
  {
   "cell_type": "code",
   "execution_count": null,
   "metadata": {},
   "outputs": [],
   "source": [
    "# Ruta donde quieres guardar los archivos descargados\n",
    "ruta_descarga = 'C:/Users/Matias/OneDrive/Escritorio/Tesis/long_dataset/breast_cancer_semantic'\n",
    "breast_cancer_semantic = 'whats2000/breast-cancer-semantic-segmentation-bcss'\n",
    "# Descargar el dataset \n",
    "kaggle.api.dataset_download_files(breast_cancer_semantic, path=ruta_descarga, unzip=True)"
   ]
  },
  {
   "cell_type": "markdown",
   "metadata": {},
   "source": [
    "## Ovarian Cancer Pathology Patches "
   ]
  },
  {
   "cell_type": "code",
   "execution_count": null,
   "metadata": {},
   "outputs": [],
   "source": [
    "# Ruta donde quieres guardar los archivos descargados\n",
    "ruta_descarga = 'C:/Users/Matias/OneDrive/Escritorio/Tesis/long_dataset/ovarian_cancer'\n",
    "ovarian_cancer = 'peymannejat/ovarian-cancer-pathology-patches'\n",
    "# Descargar el dataset \n",
    "kaggle.api.dataset_download_files(ovarian_cancer, path=ruta_descarga, unzip=True)"
   ]
  }
 ],
 "metadata": {
  "kernelspec": {
   "display_name": "Python 3",
   "language": "python",
   "name": "python3"
  },
  "language_info": {
   "codemirror_mode": {
    "name": "ipython",
    "version": 3
   },
   "file_extension": ".py",
   "mimetype": "text/x-python",
   "name": "python",
   "nbconvert_exporter": "python",
   "pygments_lexer": "ipython3",
   "version": "3.10.4"
  }
 },
 "nbformat": 4,
 "nbformat_minor": 2
}
