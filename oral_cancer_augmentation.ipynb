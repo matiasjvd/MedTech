{
 "cells": [
  {
   "cell_type": "code",
   "execution_count": 1,
   "metadata": {},
   "outputs": [
    {
     "name": "stdout",
     "output_type": "stream",
     "text": [
      "Initialised with 89 image(s) found.\n",
      "Output directory set to C:/Users/Matias/Desktop/Tesis/long_dataset/oral_cancer_original/augmentation/First Set/100x Normal Oral Cavity Histopathological Images."
     ]
    },
    {
     "name": "stderr",
     "output_type": "stream",
     "text": [
      "Processing <PIL.Image.Image image mode=RGB size=768x768 at 0x2C1DCA3C940>: 100%|██████████| 890/890 [00:04<00:00, 202.65 Samples/s]\n"
     ]
    },
    {
     "name": "stdout",
     "output_type": "stream",
     "text": [
      "Initialised with 439 image(s) found.\n",
      "Output directory set to C:/Users/Matias/Desktop/Tesis/long_dataset/oral_cancer_original/augmentation/First Set/100x OSCC Histopathological Images."
     ]
    },
    {
     "name": "stderr",
     "output_type": "stream",
     "text": [
      "Processing <PIL.Image.Image image mode=RGB size=768x768 at 0x2C1DAF1DCC0>: 100%|██████████| 4390/4390 [00:22<00:00, 196.41 Samples/s]\n"
     ]
    },
    {
     "name": "stdout",
     "output_type": "stream",
     "text": [
      "Initialised with 201 image(s) found.\n",
      "Output directory set to C:/Users/Matias/Desktop/Tesis/long_dataset/oral_cancer_original/augmentation/Second Set/400x Normal Oral Cavity Histopathological Images."
     ]
    },
    {
     "name": "stderr",
     "output_type": "stream",
     "text": [
      "Processing <PIL.Image.Image image mode=RGB size=768x768 at 0x2C1C279EB30>: 100%|██████████| 2010/2010 [00:09<00:00, 201.60 Samples/s]\n"
     ]
    },
    {
     "name": "stdout",
     "output_type": "stream",
     "text": [
      "Initialised with 495 image(s) found.\n",
      "Output directory set to C:/Users/Matias/Desktop/Tesis/long_dataset/oral_cancer_original/augmentation/Second Set/400x OSCC Histopathological Images."
     ]
    },
    {
     "name": "stderr",
     "output_type": "stream",
     "text": [
      "Processing <PIL.Image.Image image mode=RGB size=768x768 at 0x2C1DBC92F80>: 100%|██████████| 4950/4950 [00:23<00:00, 209.46 Samples/s]\n"
     ]
    }
   ],
   "source": [
    "import os\n",
    "import re\n",
    "from PIL import Image\n",
    "import Augmentor\n",
    "\n",
    "import os\n",
    "import re\n",
    "from PIL import Image\n",
    "import Augmentor\n",
    "\n",
    "def crop_images_in_directory(source_directory, output_directory):\n",
    "    if not os.path.exists(output_directory):\n",
    "        os.makedirs(output_directory)\n",
    "\n",
    "    for filename in os.listdir(source_directory):\n",
    "        if filename.lower().endswith(('.png', '.jpg', '.jpeg')):\n",
    "            base_name = os.path.splitext(filename)[0]  # Remove extension from the base name\n",
    "            file_path = os.path.join(source_directory, filename)\n",
    "            output_filename = f\"{base_name}_1\"  # No extension included here\n",
    "            output_path = os.path.join(output_directory, output_filename + \".jpg\")  # Add extension only when saving\n",
    "\n",
    "            with Image.open(file_path) as img:\n",
    "                left = (img.width - 768) / 2\n",
    "                top = (img.height - 768) / 2\n",
    "                right = (img.width + 768) / 2\n",
    "                bottom = (img.height + 768) / 2\n",
    "\n",
    "                cropped_img = img.crop((left, top, right, bottom))\n",
    "                cropped_img.save(output_path)  # Save with extension\n",
    "\n",
    "    return len(os.listdir(output_directory))  # Return the count of processed images\n",
    "\n",
    "def setup_and_run_augmentor(source_directory, output_directory, base_image_count):\n",
    "    augmentation_factor = 10\n",
    "    target_sample_size = base_image_count * augmentation_factor\n",
    "\n",
    "    p = Augmentor.Pipeline(source_directory=source_directory, output_directory=output_directory, save_format=\"JPEG\")\n",
    "    p.rotate(probability=1.0, max_left_rotation=25, max_right_rotation=25)\n",
    "    p.flip_left_right(probability=0.5)\n",
    "    p.flip_top_bottom(probability=0.5)\n",
    "    p.sample(target_sample_size)\n",
    "\n",
    "\n",
    "import os\n",
    "import re\n",
    "\n",
    "def clean_augmented_filenames(output_directory):\n",
    "    files = sorted(os.listdir(output_directory))\n",
    "    seen_names = {}\n",
    "\n",
    "    for filename in files:\n",
    "        base_name, ext = os.path.splitext(filename)\n",
    "        # Eliminar cualquier UUID y resetear el nombre base\n",
    "        new_base = re.sub(r'(_/w{8}-/w{4}-/w{4}-/w{4}-/w{12})', '', base_name)\n",
    "\n",
    "        if new_base in seen_names:\n",
    "            seen_names[new_base] += 1\n",
    "        else:\n",
    "            seen_names[new_base] = 1\n",
    "\n",
    "        new_name = f\"{new_base}_{seen_names[new_base]}\"  \n",
    "        new_path = os.path.join(output_directory, new_name + ext)  \n",
    "\n",
    "        if not os.path.exists(new_path):\n",
    "            os.rename(os.path.join(output_directory, filename), new_path)\n",
    "        else:\n",
    "            print(f\"Error: el archivo {new_path} ya existe, no se puede renombrar {filename}\")\n",
    "\n",
    "\n",
    "\n",
    "\n",
    "source_dirs = [\n",
    "    'C:/Users/Matias/Desktop/Tesis/long_dataset/oral_cancer_original/First Set/100x Normal Oral Cavity Histopathological Images',\n",
    "    'C:/Users/Matias/Desktop/Tesis/long_dataset/oral_cancer_original/First Set/100x OSCC Histopathological Images',\n",
    "    'C:/Users/Matias/Desktop/Tesis/long_dataset/oral_cancer_original/Second Set/400x Normal Oral Cavity Histopathological Images',\n",
    "    'C:/Users/Matias/Desktop/Tesis/long_dataset/oral_cancer_original/Second Set/400x OSCC Histopathological Images'\n",
    "]\n",
    "output_dirs = [\n",
    "    'C:/Users/Matias/Desktop/Tesis/long_dataset/oral_cancer_original/augmentation/First Set/100x Normal Oral Cavity Histopathological Images',\n",
    "    'C:/Users/Matias/Desktop/Tesis/long_dataset/oral_cancer_original/augmentation/First Set/100x OSCC Histopathological Images',\n",
    "    'C:/Users/Matias/Desktop/Tesis/long_dataset/oral_cancer_original/augmentation/Second Set/400x Normal Oral Cavity Histopathological Images',\n",
    "    'C:/Users/Matias/Desktop/Tesis/long_dataset/oral_cancer_original/augmentation/Second Set/400x OSCC Histopathological Images'\n",
    "]\n",
    "\n",
    "for source_dir, output_dir in zip(source_dirs, output_dirs):\n",
    "    cropped_dir = os.path.join(output_dir, \"cropped\")\n",
    "    base_image_count = crop_images_in_directory(source_directory=source_dir, output_directory=cropped_dir)\n",
    "    setup_and_run_augmentor(source_directory=cropped_dir, output_directory=output_dir, base_image_count=base_image_count)\n",
    "    clean_augmented_filenames(output_directory=output_dir)\n",
    "\n",
    "\n"
   ]
  },
  {
   "cell_type": "code",
   "execution_count": 2,
   "metadata": {},
   "outputs": [
    {
     "name": "stdout",
     "output_type": "stream",
     "text": [
      "Proceso completado.\n"
     ]
    }
   ],
   "source": [
    "import os\n",
    "import shutil\n",
    "\n",
    "def procesar_imagenes(ruta_origen, ruta_destino):\n",
    "    \"\"\"\n",
    "    Procesa las imágenes de la carpeta de origen y las mueve a la carpeta de destino,\n",
    "    modificando sus nombres según las especificaciones.\n",
    "    \n",
    "    Parámetros:\n",
    "        ruta_origen (str): Ruta de la carpeta de origen.\n",
    "        ruta_destino (str): Ruta de la carpeta de destino.\n",
    "    \"\"\"\n",
    "    for carpeta_raiz, carpetas, archivos in os.walk(ruta_origen):\n",
    "        for archivo in archivos:\n",
    "            # Obtener la clase de la imagen (benigno o maligno)\n",
    "            clase = \"benigno\" if \"Normal\" in carpeta_raiz else \"maligno\"\n",
    "            # Modificar el nombre del archivo\n",
    "            nuevo_nombre = f\"oral_{clase}_{archivo.replace('cropped_original_', '').replace('.jpg', '')}\"\n",
    "            # Ruta completa de origen y destino\n",
    "            ruta_origen_completa = os.path.join(carpeta_raiz, archivo)\n",
    "            ruta_destino_completa = os.path.join(ruta_destino, clase, nuevo_nombre)\n",
    "            # Mover y renombrar la imagen\n",
    "            shutil.copy(ruta_origen_completa, ruta_destino_completa)\n",
    "\n",
    "# Rutas de origen y destino\n",
    "ruta_origen = r\"C:/Users/Matias/Desktop/Tesis/long_dataset/oral_cancer_original/augmentation\"\n",
    "ruta_destino = r\"C:/Users/Matias/Desktop/Tesis/dataset_consolidado\"\n",
    "\n",
    "# Crear las carpetas benigno y maligno si no existen\n",
    "if not os.path.exists(os.path.join(ruta_destino, \"benigno\")):\n",
    "    os.makedirs(os.path.join(ruta_destino, \"benigno\"))\n",
    "if not os.path.exists(os.path.join(ruta_destino, \"maligno\")):\n",
    "    os.makedirs(os.path.join(ruta_destino, \"maligno\"))\n",
    "\n",
    "# Procesar las imágenes\n",
    "procesar_imagenes(os.path.join(ruta_origen, \"First Set\"), ruta_destino)\n",
    "procesar_imagenes(os.path.join(ruta_origen, \"Second Set\"), ruta_destino)\n",
    "\n",
    "print(\"Proceso completado.\")"
   ]
  }
 ],
 "metadata": {
  "kernelspec": {
   "display_name": "Python 3",
   "language": "python",
   "name": "python3"
  },
  "language_info": {
   "codemirror_mode": {
    "name": "ipython",
    "version": 3
   },
   "file_extension": ".py",
   "mimetype": "text/x-python",
   "name": "python",
   "nbconvert_exporter": "python",
   "pygments_lexer": "ipython3",
   "version": "3.10.4"
  }
 },
 "nbformat": 4,
 "nbformat_minor": 2
}
